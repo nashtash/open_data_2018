{
 "cells": [
  {
   "cell_type": "markdown",
   "metadata": {},
   "source": [
    "# File I/O"
   ]
  },
  {
   "cell_type": "raw",
   "metadata": {},
   "source": [
    "https://docs.python.org/3/library/functions.html#open"
   ]
  },
  {
   "cell_type": "code",
   "execution_count": null,
   "metadata": {},
   "outputs": [],
   "source": [
    "filename = open(file, mode='r', buffering=-1, encoding=None, errors=None, newline=None, closefd=True, opener=None)"
   ]
  },
  {
   "cell_type": "raw",
   "metadata": {},
   "source": [
    "'r' открытие на чтение (является значением по умолчанию).\n",
    "'w' открытие на запись, содержимое файла удаляется, если файла не существует, создается новый.\n",
    "'x' открытие на запись, если файла не существует, иначе исключение.\n",
    "'a' открытие на дозапись, информация добавляется в конец файла.\n",
    "'b' открытие в двоичном режиме.\n",
    "'t' открытие в текстовом режиме (является значением по умолчанию).\n",
    "'+' открытие на чтение и запись"
   ]
  },
  {
   "cell_type": "code",
   "execution_count": null,
   "metadata": {},
   "outputs": [],
   "source": [
    "f1 = open(file=\"./w_test.txt\",mode=\"w\",encoding=\"utf-8\")\n",
    "f1.write(\"test text\\n\")\n",
    "f1.write(\"test text2\")\n",
    "f1.close()\n",
    "\n",
    "\n",
    "f2 = open(file = \"./w_test.txt\",mode=\"r\",encoding=\"utf-8\")\n",
    "k = f2.readlines()\n",
    "for i in k:\n",
    "    print(i)\n",
    "f2.close()"
   ]
  },
  {
   "cell_type": "code",
   "execution_count": null,
   "metadata": {},
   "outputs": [],
   "source": [
    "with open(\"./w_test.txt\", mode=\"r\",encoding=\"utf-8\") as f:\n",
    "    print(f.readline())"
   ]
  },
  {
   "cell_type": "markdown",
   "metadata": {},
   "source": [
    "## Форматы файлов\n",
    "\n",
    "- СSV\n",
    "- JSON\n",
    "- XML\n",
    "- Excel\n",
    "- HTML-site"
   ]
  },
  {
   "cell_type": "markdown",
   "metadata": {},
   "source": [
    "### CSV (Comma Separated Value)\n",
    "\n",
    "* CSV – Comma Separated Values (http://data.okfn.org/doc/csv)\n",
    "* RFC 4180 - Common Format and MIME Type for Comma-Separated Values (CSV) Files (http://tools.ietf.org/html/rfc4180)\n",
    "* RFC 7111 - URI Fragment Identifiers for the text/csv Media Type (https://tools.ietf.org/html/rfc7111)\n",
    "* Python 3.6 CSV (https://docs.python.org/3.6/library/csv.html)"
   ]
  },
  {
   "cell_type": "code",
   "execution_count": null,
   "metadata": {},
   "outputs": [],
   "source": [
    "import csv\n",
    "import os"
   ]
  },
  {
   "cell_type": "code",
   "execution_count": null,
   "metadata": {},
   "outputs": [],
   "source": [
    "fn = \"example.csv\"\n",
    "if os.path.exists(fn):\n",
    "    append_write = 'a'  \n",
    "else:\n",
    "    append_write = 'w' \n",
    "\n",
    "with open(fn, append_write,newline='',encoding=\"utf-8\") as f:\n",
    "    writer = csv.writer(f,delimiter=',')\n",
    "    writer.writerow((\"txt1\",\"txt2\"))"
   ]
  },
  {
   "cell_type": "code",
   "execution_count": null,
   "metadata": {},
   "outputs": [],
   "source": [
    "with open(fn, newline='') as f:\n",
    "    reader = csv.reader(f, delimiter=' ')\n",
    "    for row in reader:\n",
    "        print(row)"
   ]
  },
  {
   "cell_type": "code",
   "execution_count": null,
   "metadata": {},
   "outputs": [],
   "source": [
    "# csv.DictWriter\n",
    "import os \n",
    "import csv\n",
    "\n",
    "fn = \"example2.csv\"\n",
    "if os.path.exists(fn):\n",
    "    append_write = 'a'  \n",
    "else:\n",
    "    append_write = 'w' \n",
    "    \n",
    "with open(fn1, append_write, newline='') as csvfile:\n",
    "    fieldnames = ['first_name', 'last_name']\n",
    "    writer = csv.DictWriter(csvfile, fieldnames=fieldnames)\n",
    "    writer.writeheader()\n",
    "    \n",
    "    writer.writerow({'first_name': 'Baked', 'last_name': 'Beans'})\n",
    "    writer.writerow({'first_name': '1', 'last_name': '2'})"
   ]
  },
  {
   "cell_type": "code",
   "execution_count": null,
   "metadata": {},
   "outputs": [],
   "source": [
    "# csv.DictReader \n",
    "\n",
    "if os.path.exists(fn):\n",
    "        with open(fn, newline='') as f:\n",
    "            reader = csv.DictReader(f)\n",
    "            for row in reader:\n",
    "                print(row)"
   ]
  },
  {
   "cell_type": "markdown",
   "metadata": {},
   "source": [
    "# Excel\n",
    "\n",
    "- [openpyxl](https://openpyxl.readthedocs.io/en/default/) - Read/Write Excel 2007 xlsx/xlsm files\n",
    "- xlrd - Extract data from Excel spreadsheets (.xls and .xlsx, versions 2.0 onwards) on any platform\n",
    "- xlsxwriter - Write files in the Excel 2007+ XLSX file format\n",
    "- xlwt - Generate spreadsheet files that are compatible with Excel 97/2000/XP/2003, OpenOffice.org Calc, and Gnumeric."
   ]
  },
  {
   "cell_type": "code",
   "execution_count": null,
   "metadata": {},
   "outputs": [],
   "source": [
    "# pip install openpyxl\n",
    "\n",
    "from openpyxl import *\n",
    "from openpyxl.utils import \n",
    "\n",
    "def get_data(sourcefile, source_list, source_column_letter):\n",
    "    ret_urls = []\n",
    "    if sourcefile == None:\n",
    "        return \"No file\"\n",
    "    wb = load_workbook(sourcefile)\n",
    "    ws_source = wb.get_sheet_by_name(source_list)\n",
    "    source_column_index = column_index_from_string(source_column_letter)-1\n",
    "    cell_generator = [cll for cll in ws_source.iter_cols(min_col=source_column_index, max_col=source_column_index)]\n",
    "    for i in cell_generator[0]:\n",
    "        if i.value is not None:\n",
    "            ret_urls.append(i.value)\n",
    "    return ret_urls"
   ]
  },
  {
   "cell_type": "markdown",
   "metadata": {},
   "source": [
    "# JSON\n",
    "\n",
    "- ECMA-404 (http://json.org , http://www.ecma-international.org/publications/files/ECMA-ST/ECMA-404.pdf)\n",
    "- JSON-LD 1.0 - A JSON-based Serialization for Linked Data - W3C Recommendation 16 January 2014 (http://www.w3.org/TR/json-ld/)\n",
    "- BSON (http://bsonspec.org/spec.html, http://bsonspec.org)\n",
    "- UBJSON ( http://en.wikipedia.org/wiki/UBJSON)\n",
    "- Hjson, the Human JSON (http://hjson.org)\n",
    "- JSON5 (http://json5.org)\n",
    "- JSON Schema (http://json-schema.org)\n"
   ]
  },
  {
   "cell_type": "markdown",
   "metadata": {},
   "source": [
    "В качестве значений в JSON могут быть использованы:\n",
    "\n",
    "* Объект — это неупорядоченное множество пар ключ:значение, заключённое в фигурные скобки «{ }». Ключ описывается строкой, между ним и значением стоит символ «:». Пары ключ-значение отделяются друг от друга запятыми.\n",
    "* Массив (одномерный) — это упорядоченное множество значений. Массив заключается в квадратные скобки «[ ]». Значения разделяются запятыми.\n",
    "* Число.\n",
    "* Литералы true, false и null.\n",
    "* Строка — это упорядоченное множество из нуля или более символов юникода, заключённое в двойные кавычки. Символы могут быть указаны с использованием escape-последовательностей, начинающихся с обратной косой черты «\\» (поддерживаются варианты \\\", \\\\, \\/, \\t, \\n, \\r, \\f и \\b), или записаны шестнадцатеричным кодом в кодировке Unicode в виде \\uFFFF."
   ]
  },
  {
   "cell_type": "markdown",
   "metadata": {},
   "source": [
    "Пример валидного json файла"
   ]
  },
  {
   "cell_type": "raw",
   "metadata": {},
   "source": [
    "{\n",
    "   \"firstName\": \"Иван\",\n",
    "   \"lastName\": 12.3,\n",
    "   \"address\": {\n",
    "       \"streetAddress\": \"Московское ш., 101, кв.101\",\n",
    "       \"city\": \"Ленинград\",\n",
    "       \"postalCode\": 101101\n",
    "   },\n",
    "   \"phoneNumbers\": [\n",
    "       \"812 123-1234\",\n",
    "       \"916 123-4567\"\n",
    "   ]\n",
    "}"
   ]
  },
  {
   "cell_type": "markdown",
   "metadata": {},
   "source": [
    "Для работы с валидными json форматами в Python есть пакет json"
   ]
  },
  {
   "cell_type": "code",
   "execution_count": null,
   "metadata": {},
   "outputs": [],
   "source": [
    "import json\n",
    "\n",
    "# запись словаря в файл\n",
    "\n",
    "fn = \"j1.json\"\n",
    "data = {\"ключ\":\"значение\"} # словарь\n",
    "content = json.dumps(data, ensure_ascii=False) \n",
    "with open(fn, 'w',encoding=\"utf-8\") as f:\n",
    "    f.write(content)\n"
   ]
  },
  {
   "cell_type": "code",
   "execution_count": null,
   "metadata": {},
   "outputs": [],
   "source": [
    "# загрузка в словарь из файла\n",
    "\n",
    "with open(fn, 'r',encoding=\"utf-8\") as file:\n",
    "    d = json.load(file)\n",
    "    print(d)\n",
    "    print(type(d))"
   ]
  },
  {
   "cell_type": "markdown",
   "metadata": {},
   "source": [
    "### Json tools\n",
    "\n",
    "* http://jsoneditoronline.org/"
   ]
  },
  {
   "cell_type": "markdown",
   "metadata": {},
   "source": [
    "## Задания\n",
    "\n",
    "1. Написать файловый браузер -функцию, которая по заданному пути возвращает список элементов (папок и файлов) и тип (файл или папка)\n",
    "* Замерить время создания 100 json-файлов с структурой {\"id\":<from 0 to 100> ,\"name\":<10 random characters>,\"body\":<100 random characters>}\n",
    "* Полученные файлы считать в один csv-файл \n"
   ]
  },
  {
   "cell_type": "markdown",
   "metadata": {},
   "source": [
    "1 . Написать файловый браузер -функцию, которая по заданному пути возвращает список элементов (папок и файлов) и тип (файл или папка)"
   ]
  },
  {
   "cell_type": "code",
   "execution_count": 1,
   "metadata": {},
   "outputs": [],
   "source": [
    "import os"
   ]
  },
  {
   "cell_type": "code",
   "execution_count": 2,
   "metadata": {},
   "outputs": [],
   "source": [
    "def file_browser(path = os.getcwd()):\n",
    "    '''\n",
    "    get file path and return list of tuples included file name and its type (Regular file or Folder/ Directory) in this path\n",
    "    :path: takes derectory where find files\n",
    "    :return: tuple of file_name and type_of_file\n",
    "    '''\n",
    "    list_of_files = []\n",
    "    for item in os.listdir(path):\n",
    "        list_of_files.append((item ,'Regular file')) if os.path.isfile(item ) else list_of_files.append((item ,'Folder/ Directory'))\n",
    "    return list_of_files"
   ]
  },
  {
   "cell_type": "code",
   "execution_count": 3,
   "metadata": {},
   "outputs": [],
   "source": [
    "?file_browser\n",
    "# file_browser()"
   ]
  },
  {
   "cell_type": "markdown",
   "metadata": {},
   "source": [
    "2 . Замерить время создания 100 json-файлов с структурой {\"id\": ,\"name\":,\"body\":}"
   ]
  },
  {
   "cell_type": "markdown",
   "metadata": {},
   "source": [
    "Импортируем библиотеку для работы с .json файлами, а также библиотеки для генерации случайных строк в значения ключей 'name' и 'body'"
   ]
  },
  {
   "cell_type": "code",
   "execution_count": 4,
   "metadata": {},
   "outputs": [],
   "source": [
    "import json\n",
    "import random\n",
    "import string"
   ]
  },
  {
   "cell_type": "code",
   "execution_count": 5,
   "metadata": {},
   "outputs": [],
   "source": [
    "def RandomString(l):\n",
    "    '''\n",
    "    Generate string s with length l\n",
    "    :l: length of string\n",
    "    :return: generated random string\n",
    "    '''\n",
    "    l = int(l)\n",
    "    CHARS = string.ascii_letters + string.punctuation + string.digits\n",
    "    s = ''\n",
    "    while l > 0:\n",
    "        s += random.choice(CHARS)\n",
    "        l = l -1\n",
    "    return s\n",
    "#RandomString(11)"
   ]
  },
  {
   "cell_type": "markdown",
   "metadata": {},
   "source": [
    "Теперь замерим время выполнения."
   ]
  },
  {
   "cell_type": "code",
   "execution_count": 6,
   "metadata": {},
   "outputs": [
    {
     "name": "stdout",
     "output_type": "stream",
     "text": [
      "323 ms ± 59.4 ms per loop (mean ± std. dev. of 7 runs, 1 loop each)\n"
     ]
    }
   ],
   "source": [
    "%%timeit\n",
    "file_id = 0\n",
    "while file_id <= 100:\n",
    "    with open(f'C:\\\\Users\\\\Vitaly\\\\Desktop\\\\jsons\\\\{file_id}.json', 'w') as json_file:\n",
    "        #cur_json = {\"id\": file_id, \"name\": None, \"body\": None}\n",
    "        cur_json = {\"id\": file_id, \"name\": RandomString(10), \"body\": RandomString(10)}\n",
    "        json.dump(cur_json, json_file)\n",
    "    file_id += 1"
   ]
  },
  {
   "cell_type": "markdown",
   "metadata": {},
   "source": [
    "**Время:** С помощью магической функции timeit было подсчитано, что на создание 100 файлов .json со структурой {\"id\": ,\"name\": None,\"body\": None} было затрачено 87 ms ± 3.56 ms per loop (mean ± std. dev. of 7 runs, 1 loop each)"
   ]
  },
  {
   "cell_type": "markdown",
   "metadata": {},
   "source": [
    "3 . Полученные файлы считать в один csv-файл "
   ]
  },
  {
   "cell_type": "code",
   "execution_count": 7,
   "metadata": {},
   "outputs": [],
   "source": [
    "import csv"
   ]
  },
  {
   "cell_type": "code",
   "execution_count": 8,
   "metadata": {},
   "outputs": [],
   "source": [
    "#%%timeit #если разблокировать, то проведет несколько запусков клетки и будет повторно добавлять в csv каждую итерацию. \n",
    "#https://stackoverflow.com/questions/15129567/csv-writer-writing-each-character-of-word-in-separate-column-cell\n",
    "file_id = 0\n",
    "while file_id <= 100:\n",
    "    with open(f'C:\\\\Users\\\\Vitaly\\\\Desktop\\\\jsons\\\\{file_id}.json', 'r') as json_file:\n",
    "        data = json.load(json_file)\n",
    "    with open('C:\\\\Users\\\\Vitaly\\\\Desktop\\\\jsons\\\\json_from_csv.csv', \"a\", newline='') as csv_file:\n",
    "        writer = csv.writer(csv_file)\n",
    "        # line = f\"{data['id']},{data['name']},{data['body']}\"\n",
    "        # writer.writerow([line])\n",
    "        # or\n",
    "        writer.writerow([data['id'], data['name'], data['body']]) #takes sequance \n",
    "    file_id += 1"
   ]
  },
  {
   "cell_type": "code",
   "execution_count": null,
   "metadata": {},
   "outputs": [],
   "source": []
  }
 ],
 "metadata": {
  "kernelspec": {
   "display_name": "Python 3",
   "language": "python",
   "name": "python3"
  },
  "language_info": {
   "codemirror_mode": {
    "name": "ipython",
    "version": 3
   },
   "file_extension": ".py",
   "mimetype": "text/x-python",
   "name": "python",
   "nbconvert_exporter": "python",
   "pygments_lexer": "ipython3",
   "version": "3.6.2"
  }
 },
 "nbformat": 4,
 "nbformat_minor": 1
}
